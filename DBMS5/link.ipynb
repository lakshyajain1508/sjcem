{
 "cells": [
  {
   "cell_type": "code",
   "execution_count": 1,
   "id": "7b42ffc6",
   "metadata": {},
   "outputs": [
    {
     "name": "stdout",
     "output_type": "stream",
     "text": [
      "Mermaid link: https://mermaid.live/edit#pako:eNqdVG2PojAQ_iukn12jsKDyjRP3YrxVoiSbbEwuc7QLzUlL2prcnvrfr7ypCJrN9QOkM8_MPJ1n2gOKOCbIRUT4FGIB6ZYZegVeOJ8tQ-NQbvMllaAsNgJQlDD1c-4bwaLlXUJKLkYMihj-6lsL9p0wTEQ7d8IZaVk9jAWRsrSfyp-_moardQc9n0eKiy-xq4ybjEQUdurzi3R8koFQadWDl0WDlxcEq_kyfO3unZdlnLJzbAfDq-6-LB4c7tpZdll_WviQ1uet6IXrmXePXCgIPKJ2Q76LHpGRoJminF18HzsOyphyqZoCzgJvfY9Ks8XB4hGgU9MfPIILjarkm7f2O4q9gcB3yhSuZgHdAWMKGUS0Hphaef91vtnMV8su3XFKpdR8_kv1mmBL80vapvrlQFAZJSBicuXUVJvX-3h8euKHxtS6xhYlILeocdHuAEEpfZPP4Gt3FXGZuBxPWbTbY3Kb_XTs94-H65nIwb_IjrNYGorX8Fva55YXuaUBuiGaEdYq1SGF6J34iDMFlBVctgz1UCwoRu4H7CTpoZSIFPI9KuTcIpUQPQcoj8QgfudRJx2UAXvnPEWuEnsdJvg-TurNPsuVqN7VM6J4-qZ8zxRyTccsUiD3gP4gd_g86muTPRmPzNHAsQbjHvpE7sjqO85wbE7M4Wio__aph_4WRQd9x7Jty7aGg4ljWuPx8-kfAoW4LQ\n"
     ]
    }
   ],
   "source": [
    "link = \"https://mermaid.live/edit#pako:eNqdVG2PojAQ_iukn12jsKDyjRP3YrxVoiSbbEwuc7QLzUlL2prcnvrfr7ypCJrN9QOkM8_MPJ1n2gOKOCbIRUT4FGIB6ZYZegVeOJ8tQ-NQbvMllaAsNgJQlDD1c-4bwaLlXUJKLkYMihj-6lsL9p0wTEQ7d8IZaVk9jAWRsrSfyp-_moardQc9n0eKiy-xq4ybjEQUdurzi3R8koFQadWDl0WDlxcEq_kyfO3unZdlnLJzbAfDq-6-LB4c7tpZdll_WviQ1uet6IXrmXePXCgIPKJ2Q76LHpGRoJminF18HzsOyphyqZoCzgJvfY9Ks8XB4hGgU9MfPIILjarkm7f2O4q9gcB3yhSuZgHdAWMKGUS0Hphaef91vtnMV8su3XFKpdR8_kv1mmBL80vapvrlQFAZJSBicuXUVJvX-3h8euKHxtS6xhYlILeocdHuAEEpfZPP4Gt3FXGZuBxPWbTbY3Kb_XTs94-H65nIwb_IjrNYGorX8Fva55YXuaUBuiGaEdYq1SGF6J34iDMFlBVctgz1UCwoRu4H7CTpoZSIFPI9KuTcIpUQPQcoj8QgfudRJx2UAXvnPEWuEnsdJvg-TurNPsuVqN7VM6J4-qZ8zxRyTccsUiD3gP4gd_g86muTPRmPzNHAsQbjHvpE7sjqO85wbE7M4Wio__aph_4WRQd9x7Jty7aGg4ljWuPx8-kfAoW4LQ\"\n",
    "\n",
    "print(\"Mermaid link:\", link)"
   ]
  },
  {
   "cell_type": "code",
   "execution_count": 2,
   "id": "33266dc8",
   "metadata": {},
   "outputs": [
    {
     "name": "stdout",
     "output_type": "stream",
     "text": [
      "Kroki link: https://kroki.io/mermaid/svg/eNqdk01ugzAQhfc5hcU-OUB3NE4qRAOIIGVZTW2XWAIb2e6iCrl7HaD8OlFULywx8xh_M89mCnPIFZQrZFfiZ8EuytCl-botbRQXOUrAcCbMR4BREs6TEZSsj1EwDOH4dS56Y4Iytah7loLNgz6limndhK_NjuNtFqdLLCyJkeoJqi52rBjhUJifpzgwq0CZsut7H46A_CSJgyg7OIflV5Xkov9xiTaa5j6839Mo107VbnN1xrsuW64s3fl3qDLF4AHTDNrBxTRRvDJcij71VUgwaCu1GZu1S_z0DsR0pEn4IO_y710S6AHa005-ipfnnEBR9wlNZlLbdo22UAHh3b3oLMaH4HgM4shhMC251pbjH_b-kc3NHWpObG6N55qcQeVsyF1Xkwdb1-u1vEyu5QvyzqC98ftxq8AY-zY75TjXyYc7ZcVckOKbsmnda73Z1Jex8Vb5yQopco2M9Jyo_XhvVTUC278FodYObzDWJSZSGODCIqx-Ae4QTZU\n"
     ]
    }
   ],
   "source": [
    "link2 = \"https://kroki.io/mermaid/svg/eNqdk01ugzAQhfc5hcU-OUB3NE4qRAOIIGVZTW2XWAIb2e6iCrl7HaD8OlFULywx8xh_M89mCnPIFZQrZFfiZ8EuytCl-botbRQXOUrAcCbMR4BREs6TEZSsj1EwDOH4dS56Y4Iytah7loLNgz6limndhK_NjuNtFqdLLCyJkeoJqi52rBjhUJifpzgwq0CZsut7H46A_CSJgyg7OIflV5Xkov9xiTaa5j6839Mo107VbnN1xrsuW64s3fl3qDLF4AHTDNrBxTRRvDJcij71VUgwaCu1GZu1S_z0DsR0pEn4IO_y710S6AHa005-ipfnnEBR9wlNZlLbdo22UAHh3b3oLMaH4HgM4shhMC251pbjH_b-kc3NHWpObG6N55qcQeVsyF1Xkwdb1-u1vEyu5QvyzqC98ftxq8AY-zY75TjXyYc7ZcVckOKbsmnda73Z1Jex8Vb5yQopco2M9Jyo_XhvVTUC278FodYObzDWJSZSGODCIqx-Ae4QTZU\"\n",
    "\n",
    "print(\"Kroki link:\", link2)"
   ]
  },
  {
   "cell_type": "code",
   "execution_count": 3,
   "id": "707cebb8",
   "metadata": {},
   "outputs": [
    {
     "name": "stdout",
     "output_type": "stream",
     "text": [
      "ChatGPT link: https://chatgpt.com/share/686655c0-1e54-8001-9490-949912797652\n"
     ]
    }
   ],
   "source": [
    "chat = \"https://chatgpt.com/share/686655c0-1e54-8001-9490-949912797652\"\n",
    "print(\"ChatGPT link:\", chat)"
   ]
  }
 ],
 "metadata": {
  "kernelspec": {
   "display_name": "Python 3",
   "language": "python",
   "name": "python3"
  },
  "language_info": {
   "codemirror_mode": {
    "name": "ipython",
    "version": 3
   },
   "file_extension": ".py",
   "mimetype": "text/x-python",
   "name": "python",
   "nbconvert_exporter": "python",
   "pygments_lexer": "ipython3",
   "version": "3.12.1"
  }
 },
 "nbformat": 4,
 "nbformat_minor": 5
}
