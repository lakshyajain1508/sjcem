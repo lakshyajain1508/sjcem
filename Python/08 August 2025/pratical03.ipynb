{
 "cells": [
  {
   "cell_type": "code",
   "execution_count": 4,
   "id": "41e652fe",
   "metadata": {},
   "outputs": [
    {
     "name": "stdout",
     "output_type": "stream",
     "text": [
      "--- if statement ---\n",
      "You are an adult.\n"
     ]
    }
   ],
   "source": [
    "print(\"--- if statement ---\")\n",
    "age = 20\n",
    "if age >= 18:\n",
    "    print(\"You are an adult.\")\n"
   ]
  },
  {
   "cell_type": "code",
   "execution_count": 5,
   "id": "5a6a4725",
   "metadata": {},
   "outputs": [
    {
     "name": "stdout",
     "output_type": "stream",
     "text": [
      "\n",
      "--- if-else statement ---\n",
      "10 is an even number.\n"
     ]
    }
   ],
   "source": [
    "print(\"\\n--- if-else statement ---\")\n",
    "num = 10\n",
    "if num % 2 == 0:\n",
    "    print(f\"{num} is an even number.\")\n",
    "else:\n",
    "    print(f\"{num} is an odd number.\")\n"
   ]
  }
 ],
 "metadata": {
  "kernelspec": {
   "display_name": "Python 3",
   "language": "python",
   "name": "python3"
  },
  "language_info": {
   "codemirror_mode": {
    "name": "ipython",
    "version": 3
   },
   "file_extension": ".py",
   "mimetype": "text/x-python",
   "name": "python",
   "nbconvert_exporter": "python",
   "pygments_lexer": "ipython3",
   "version": "3.13.4"
  }
 },
 "nbformat": 4,
 "nbformat_minor": 5
}
