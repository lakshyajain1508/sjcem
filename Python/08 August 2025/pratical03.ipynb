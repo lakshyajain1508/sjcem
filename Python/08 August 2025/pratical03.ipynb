{
 "cells": [
  {
   "cell_type": "code",
   "execution_count": 12,
   "id": "41e652fe",
   "metadata": {},
   "outputs": [
    {
     "name": "stdout",
     "output_type": "stream",
     "text": [
      "--- if statement ---\n",
      "You are an adult.\n"
     ]
    }
   ],
   "source": [
    "# 1. if statement\n",
    "print(\"--- if statement ---\")\n",
    "age = 20\n",
    "if age >= 18:\n",
    "    print(\"You are an adult.\")"
   ]
  },
  {
   "cell_type": "code",
   "execution_count": 11,
   "id": "5a6a4725",
   "metadata": {},
   "outputs": [
    {
     "name": "stdout",
     "output_type": "stream",
     "text": [
      "\n",
      "--- if-else statement ---\n",
      "10 is an even number.\n"
     ]
    }
   ],
   "source": [
    "# 2. if-else statement\n",
    "print(\"\\n--- if-else statement ---\")\n",
    "num = 10\n",
    "if num % 2 == 0:\n",
    "    print(f\"{num} is an even number.\")\n",
    "else:\n",
    "    print(f\"{num} is an odd number.\")\n"
   ]
  },
  {
   "cell_type": "code",
   "execution_count": 10,
   "id": "244d77b5",
   "metadata": {},
   "outputs": [
    {
     "name": "stdout",
     "output_type": "stream",
     "text": [
      "\n",
      "--- if-elif-else ladder (Grade System) ---\n",
      "Marks: 75, Grade: B\n"
     ]
    }
   ],
   "source": [
    "# 3. if-elif-else ladder (Grade System)\n",
    "print(\"\\n--- if-elif-else ladder (Grade System) ---\")\n",
    "marks = 75\n",
    "if marks >= 90:\n",
    "    grade = \"A+\"\n",
    "elif marks >= 80:\n",
    "    grade = \"A\"\n",
    "elif marks >= 70:\n",
    "    grade = \"B\"\n",
    "elif marks >= 60:\n",
    "    grade = \"C\"\n",
    "else:\n",
    "    grade = \"Fail\"\n",
    "print(f\"Marks: {marks}, Grade: {grade}\")"
   ]
  },
  {
   "cell_type": "code",
   "execution_count": 9,
   "id": "f4fe5018",
   "metadata": {},
   "outputs": [
    {
     "name": "stdout",
     "output_type": "stream",
     "text": [
      "\n",
      "--- Nested if statement ---\n",
      "Login successful!\n"
     ]
    }
   ],
   "source": [
    "# 4. Nested if statement\n",
    "print(\"\\n--- Nested if statement ---\")\n",
    "username = \"admin\"\n",
    "password = \"123\"\n",
    "if username == \"admin\":\n",
    "    if password == \"123\":\n",
    "        print(\"Login successful!\")\n",
    "    else:\n",
    "        print(\"Incorrect password.\")\n",
    "else:\n",
    "    print(\"Incorrect username.\")\n"
   ]
  },
  {
   "cell_type": "code",
   "execution_count": 13,
   "id": "206911ea",
   "metadata": {},
   "outputs": [
    {
     "name": "stdout",
     "output_type": "stream",
     "text": [
      "\n",
      "--- for loop ---\n",
      "Iterating through a list:\n",
      "apple\n",
      "banana\n",
      "cherry\n",
      "Iterating through a string:\n",
      "P\n",
      "y\n",
      "t\n",
      "h\n",
      "o\n",
      "n\n",
      "Using range():\n",
      "0\n",
      "1\n",
      "2\n",
      "3\n",
      "4\n",
      "Using range(start, stop, step):\n",
      "0\n",
      "2\n",
      "4\n",
      "6\n",
      "8\n"
     ]
    }
   ],
   "source": [
    "# 5. for loop\n",
    "print(\"\\n--- for loop ---\")\n",
    "fruits = [\"apple\", \"banana\", \"cherry\"]\n",
    "print(\"Iterating through a list:\")\n",
    "for fruit in fruits:\n",
    "    print(fruit)\n",
    "\n",
    "print(\"Iterating through a string:\")\n",
    "for char in \"Python\":\n",
    "    print(char)\n",
    "\n",
    "print(\"Using range():\")\n",
    "for i in range(5): # 0, 1, 2, 3, 4\n",
    "    print(i)\n",
    "\n",
    "print(\"Using range(start, stop, step):\")\n",
    "for i in range(0, 10, 2): # 0, 2, 4, 6, 8\n",
    "    print(i)\n"
   ]
  },
  {
   "cell_type": "code",
   "execution_count": 14,
   "id": "b450701c",
   "metadata": {},
   "outputs": [
    {
     "name": "stdout",
     "output_type": "stream",
     "text": [
      "\n",
      "--- while loop ---\n",
      "Count: 0\n",
      "Count: 1\n",
      "Count: 2\n",
      "Count: 3\n",
      "Count: 4\n"
     ]
    }
   ],
   "source": [
    "# 6. while loop\n",
    "print(\"\\n--- while loop ---\")\n",
    "count = 0\n",
    "while count < 5:\n",
    "    print(f\"Count: {count}\")\n",
    "    count += 1"
   ]
  },
  {
   "cell_type": "code",
   "execution_count": 15,
   "id": "1adafe39",
   "metadata": {},
   "outputs": [
    {
     "name": "stdout",
     "output_type": "stream",
     "text": [
      "\n",
      "--- break statement ---\n",
      "0\n",
      "1\n",
      "2\n",
      "3\n",
      "4\n",
      "\n",
      "--- continue statement ---\n",
      "1\n",
      "3\n",
      "5\n",
      "7\n",
      "9\n",
      "\n",
      "--- pass statement ---\n",
      "0\n",
      "2\n"
     ]
    }
   ],
   "source": [
    "# 7. Loop Control Statements (break and continue)\n",
    "print(\"\\n--- break statement ---\")\n",
    "for i in range(10):\n",
    "    if i == 5:\n",
    "        break # Exit the loop when i is 5\n",
    "    print(i)\n",
    "\n",
    "print(\"\\n--- continue statement ---\")\n",
    "for i in range(10):\n",
    "    if i % 2 == 0:\n",
    "        continue # Skip even numbers\n",
    "    print(i)\n",
    "\n",
    "print(\"\\n--- pass statement ---\")\n",
    "for i in range(3):\n",
    "    if i == 1:\n",
    "        pass # Do nothing\n",
    "    else:\n",
    "        print(i)"
   ]
  }
 ],
 "metadata": {
  "kernelspec": {
   "display_name": "Python 3",
   "language": "python",
   "name": "python3"
  },
  "language_info": {
   "codemirror_mode": {
    "name": "ipython",
    "version": 3
   },
   "file_extension": ".py",
   "mimetype": "text/x-python",
   "name": "python",
   "nbconvert_exporter": "python",
   "pygments_lexer": "ipython3",
   "version": "3.13.4"
  }
 },
 "nbformat": 4,
 "nbformat_minor": 5
}
