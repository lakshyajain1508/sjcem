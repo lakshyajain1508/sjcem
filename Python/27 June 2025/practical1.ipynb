{
 "cells": [
  {
   "cell_type": "code",
   "execution_count": 10,
   "id": "81a627e7",
   "metadata": {},
   "outputs": [
    {
     "name": "stdout",
     "output_type": "stream",
     "text": [
      "Name: Alice\n",
      "Age: 20\n",
      "Height: 5.4\n"
     ]
    }
   ],
   "source": [
    "# 1. Variables and Assignment\n",
    "\n",
    "name = \"Alice\"        # String variable\n",
    "age = 20              # Integer variable\n",
    "height = 5.4          # Float variable\n",
    "\n",
    "print(\"Name:\", name)\n",
    "print(\"Age:\", age)\n",
    "print(\"Height:\", height)"
   ]
  },
  {
   "cell_type": "code",
   "execution_count": 9,
   "id": "aee8cca3",
   "metadata": {},
   "outputs": [
    {
     "name": "stdout",
     "output_type": "stream",
     "text": [
      "\n",
      "--- Quotes and Strings ---\n",
      "Hello, world!\n",
      "Python is fun!\n",
      "It's a beautiful day\n"
     ]
    }
   ],
   "source": [
    "# 2. Quotes and Strings\n",
    "\n",
    "print(\"\\n--- Quotes and Strings ---\")\n",
    "message1 = 'Hello, world!'        # Single quotes\n",
    "message2 = \"Python is fun!\"       # Double quotes\n",
    "message3 = \"It's a beautiful day\" # Mixing quotes\n",
    "\n",
    "print(message1)\n",
    "print(message2)\n",
    "print(message3)\n"
   ]
  },
  {
   "cell_type": "code",
   "execution_count": 8,
   "id": "0c0872e7",
   "metadata": {},
   "outputs": [
    {
     "name": "stdout",
     "output_type": "stream",
     "text": [
      "\n",
      "--- Math Operations ---\n",
      "Addition: 13\n",
      "Subtraction: 7\n",
      "Multiplication: 30\n",
      "Division: 3.3333333333333335\n",
      "Floor Division: 3\n",
      "Modulus: 1\n",
      "Exponentiation: 1000\n"
     ]
    }
   ],
   "source": [
    "# 3. Basic Math Operations\n",
    "\n",
    "print(\"\\n--- Math Operations ---\")\n",
    "a = 10\n",
    "b = 3\n",
    "\n",
    "add = a + b\n",
    "sub = a - b\n",
    "mul = a * b\n",
    "div = a / b         # Division (float result)\n",
    "floor_div = a // b  # Floor division\n",
    "mod = a % b         # Remainder\n",
    "power = a ** b      # Exponentiation\n",
    "\n",
    "print(\"Addition:\", add)\n",
    "print(\"Subtraction:\", sub)\n",
    "print(\"Multiplication:\", mul)\n",
    "print(\"Division:\", div)\n",
    "print(\"Floor Division:\", floor_div)\n",
    "print(\"Modulus:\", mod)\n",
    "print(\"Exponentiation:\", power)\n"
   ]
  },
  {
   "cell_type": "code",
   "execution_count": 6,
   "id": "faa2286e",
   "metadata": {},
   "outputs": [
    {
     "name": "stdout",
     "output_type": "stream",
     "text": [
      "\n",
      "--- Expressions ---\n",
      "Expression Result: 12\n"
     ]
    }
   ],
   "source": [
    "# 4. Expressions\n",
    "\n",
    "print(\"\\n--- Expressions ---\")\n",
    "x = 5\n",
    "y = 2\n",
    "z = (x + y) * 3 - (x - y) ** 2\n",
    "\n",
    "print(\"Expression Result:\", z)"
   ]
  },
  {
   "cell_type": "code",
   "execution_count": 7,
   "id": "83972c70",
   "metadata": {},
   "outputs": [
    {
     "name": "stdout",
     "output_type": "stream",
     "text": [
      "\n",
      "--- Combining Strings and Variables ---\n",
      "Hello, Alice!\n",
      "You are 20 years old.\n"
     ]
    }
   ],
   "source": [
    "# 5. Combining Strings and Variables\n",
    "\n",
    "print(\"\\n--- Combining Strings and Variables ---\")\n",
    "greeting = \"Hello, \" + name + \"!\"\n",
    "age_message = \"You are \" + str(age) + \" years old.\"\n",
    "\n",
    "print(greeting)\n",
    "print(age_message)"
   ]
  },
  {
   "cell_type": "code",
   "execution_count": null,
   "id": "99219579",
   "metadata": {},
   "outputs": [
    {
     "name": "stdout",
     "output_type": "stream",
     "text": [
      "City: Paris\n",
      "Tem: 25°C\n",
      "Hobby: painting\n",
      "I live in Paris. The temperature is 25°C and I love painting.\n"
     ]
    }
   ],
   "source": [
    "# 6. Create their own variables (city, temperature, hobby)\n",
    "\n",
    "# Print a sentence like: \"I live in Paris. The temperature is 25°C and I love painting.\"\n",
    "\n",
    "city = \"Paris\"\n",
    "temperature = \"25°C\"\n",
    "hobby = \"painting\"\n",
    "\n",
    "print(\"City:\", city)\n",
    "print(\"Tem:\",temperature)\n",
    "print(\"Hobby:\", hobby)  \n",
    "\n",
    "print(\"I live in\",city+\". The temperature is\", temperature,\"and I love\",hobby+\".\")\n"
   ]
  }
 ],
 "metadata": {
  "kernelspec": {
   "display_name": "Python 3",
   "language": "python",
   "name": "python3"
  },
  "language_info": {
   "codemirror_mode": {
    "name": "ipython",
    "version": 3
   },
   "file_extension": ".py",
   "mimetype": "text/x-python",
   "name": "python",
   "nbconvert_exporter": "python",
   "pygments_lexer": "ipython3",
   "version": "3.13.4"
  }
 },
 "nbformat": 4,
 "nbformat_minor": 5
}
