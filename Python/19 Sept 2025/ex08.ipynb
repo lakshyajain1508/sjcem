{
 "cells": [
  {
   "cell_type": "code",
   "execution_count": 1,
   "id": "39a924f2",
   "metadata": {},
   "outputs": [
    {
     "name": "stdout",
     "output_type": "stream",
     "text": [
      "✅ Email sent successfully!\n"
     ]
    }
   ],
   "source": [
    "import smtplib\n",
    "\n",
    "sender = \"124lakshya2066@sjcem.edu.in\"\n",
    "recipient = \"124vedant2011@sjcem.edu.in\"\n",
    "password = \"mubsosbsuivstytk\"\n",
    "\n",
    "message = \"\"\"\n",
    "Subject: Test Email from Python\n",
    "Hello Vedant,\n",
    "You are looking very very very hottt!\n",
    "\"\"\"\n",
    "\n",
    "server = smtplib.SMTP(\"smtp.gmail.com\", 587)\n",
    "server.starttls()\n",
    "server.login(sender, password)\n",
    "server.sendmail(sender, recipient, message)\n",
    "server.quit()\n",
    "\n",
    "print(\"✅ Email sent successfully!\")\n"
   ]
  },
  {
   "cell_type": "code",
   "execution_count": 2,
   "id": "49a90b16",
   "metadata": {},
   "outputs": [
    {
     "name": "stdout",
     "output_type": "stream",
     "text": [
      "✅ Email sent with subject!\n"
     ]
    }
   ],
   "source": [
    "import smtplib\n",
    "from email.mime.text import MIMEText\n",
    "\n",
    "sender = \"124lakshya2066@sjcem.edu.in\"\n",
    "recipient = \"124vedant2011@sjcem.edu.in\"\n",
    "password = \"mubsosbsuivstytk\"\n",
    "\n",
    "# Create the email message\n",
    "body = \"Hello Vedant,\\nI know you have a girlfiend, Pay 200 or else i will tell your mother!\"\n",
    "msg = MIMEText(body, \"plain\")   # \"plain\" = text email\n",
    "msg[\"Subject\"] = \"🎓 Test Email from Python\"   # <-- subject line\n",
    "msg[\"From\"] = sender\n",
    "msg[\"To\"] = recipient\n",
    "\n",
    "# Send the email\n",
    "server = smtplib.SMTP(\"smtp.gmail.com\", 587)\n",
    "server.starttls()\n",
    "server.login(sender, password)\n",
    "server.sendmail(sender, recipient, msg.as_string())\n",
    "server.quit()\n",
    "\n",
    "print(\"✅ Email sent with subject!\")\n"
   ]
  }
 ],
 "metadata": {
  "kernelspec": {
   "display_name": "Python 3",
   "language": "python",
   "name": "python3"
  },
  "language_info": {
   "codemirror_mode": {
    "name": "ipython",
    "version": 3
   },
   "file_extension": ".py",
   "mimetype": "text/x-python",
   "name": "python",
   "nbconvert_exporter": "python",
   "pygments_lexer": "ipython3",
   "version": "3.12.1"
  }
 },
 "nbformat": 4,
 "nbformat_minor": 5
}
