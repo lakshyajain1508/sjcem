{
 "cells": [
  {
   "cell_type": "code",
   "execution_count": 2,
   "id": "d13e2ae2",
   "metadata": {},
   "outputs": [
    {
     "name": "stdout",
     "output_type": "stream",
     "text": [
      "Factorial of 5 is 120\n"
     ]
    }
   ],
   "source": [
    "# Program No.1 \n",
    "#factorial without recursion\n",
    "def factorial(n):\n",
    "    result = 1\n",
    "    for i in range(1, n + 1):\n",
    "        result *= i\n",
    "    return result\n",
    "\n",
    "# Input from user\n",
    "num = int(input(\"Enter a number: \"))\n",
    "\n",
    "if num < 0:\n",
    "    print(\"Factorial is not defined for negative numbers.\")\n",
    "else:\n",
    "    print(\"Factorial of\", num, \"is\", factorial(num))\n"
   ]
  },
  {
   "cell_type": "code",
   "execution_count": 3,
   "id": "ab857912",
   "metadata": {},
   "outputs": [
    {
     "name": "stdout",
     "output_type": "stream",
     "text": [
      "Factorial of 5 is 120\n"
     ]
    }
   ],
   "source": [
    "# Program No. 2 \n",
    "# Function to calculate factorial using recursion\n",
    "\n",
    "#1st way\n",
    "def main():\n",
    "    num = int(input(\"Enter a number to find its factorial: \"))\n",
    "\n",
    "    if num < 0:\n",
    "        print(\"Factorial is not defined for negative numbers.\")\n",
    "    else:\n",
    "        result = factorial(num)\n",
    "        print(f\"Factorial of {num} is {result}\")\n",
    "\n",
    "# Call the main function\n",
    "main()\n"
   ]
  },
  {
   "cell_type": "code",
   "execution_count": 4,
   "id": "4a91e895",
   "metadata": {},
   "outputs": [
    {
     "name": "stdout",
     "output_type": "stream",
     "text": [
      "Factorial of 5 is 120\n"
     ]
    }
   ],
   "source": [
    "#2nd way\n",
    "def factorial(n):\n",
    "    if n == 0 or n == 1:\n",
    "        return 1  # Base case\n",
    "    else:\n",
    "        return n * factorial(n - 1)  # Recursive case\n",
    "\n",
    "\n",
    "num = int(input(\"Enter a number to find its factorial: \"))\n",
    "if num < 0:\n",
    "  print(\"Factorial is not defined for negative numbers.\")\n",
    "else:\n",
    " result = factorial(num)\n",
    " print(f\"Factorial of {num} is {result}\")\n"
   ]
  }
 ],
 "metadata": {
  "kernelspec": {
   "display_name": "Python 3",
   "language": "python",
   "name": "python3"
  },
  "language_info": {
   "codemirror_mode": {
    "name": "ipython",
    "version": 3
   },
   "file_extension": ".py",
   "mimetype": "text/x-python",
   "name": "python",
   "nbconvert_exporter": "python",
   "pygments_lexer": "ipython3",
   "version": "3.13.7"
  }
 },
 "nbformat": 4,
 "nbformat_minor": 5
}
