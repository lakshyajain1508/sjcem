{
 "cells": [
  {
   "cell_type": "code",
   "execution_count": 4,
   "id": "885e6923",
   "metadata": {},
   "outputs": [
    {
     "name": "stdout",
     "output_type": "stream",
     "text": [
      "10 is he number is positive.\n"
     ]
    }
   ],
   "source": [
    "# Simple if Statement\n",
    "# Problem: Check if a number is positive.\n",
    "\n",
    "num = int(input(\"Enter a number: \"))\n",
    "if num > 0:\n",
    "    print(F\"{num} is he number is positive.\")\n"
   ]
  },
  {
   "cell_type": "code",
   "execution_count": 5,
   "id": "5635060c",
   "metadata": {},
   "outputs": [
    {
     "name": "stdout",
     "output_type": "stream",
     "text": [
      "Even number\n"
     ]
    }
   ],
   "source": [
    "# if-else Statement :\n",
    "# Problem: Check if a number is even or odd.\n",
    "num = int(input(\"Enter a number: \"))\n",
    "if num % 2 == 0:\n",
    "    print(\"Even number\")\n",
    "else:\n",
    "    print(\"Odd number\")\n"
   ]
  },
  {
   "cell_type": "code",
   "execution_count": 10,
   "id": "b08e7848",
   "metadata": {},
   "outputs": [
    {
     "name": "stdout",
     "output_type": "stream",
     "text": [
      "Marks: 80\n",
      "Grade: B\n"
     ]
    }
   ],
   "source": [
    "# if-elif-else Ladder:\n",
    "# Problem: Grade evaluation based on marks\n",
    "marks = int(input(\"Enter your marks: \"))\n",
    "print(\"Marks:\", marks)\n",
    "if marks >= 90:\n",
    "    print(\"Grade: A\")\n",
    "elif marks >= 75:\n",
    "    print(\"Grade: B\")\n",
    "elif marks >= 60:\n",
    "    print(\"Grade: C\")\n",
    "elif marks >= 40:\n",
    "    print(\"Grade: D\")\n",
    "else:\n",
    "    print(\"Grade: F - Fail\")"
   ]
  },
  {
   "cell_type": "code",
   "execution_count": 12,
   "id": "4a2bc026",
   "metadata": {},
   "outputs": [
    {
     "name": "stdout",
     "output_type": "stream",
     "text": [
      "Age: 18\n",
      "Eligible to vote.\n"
     ]
    }
   ],
   "source": [
    "# 4.Nested if Statement:\n",
    "age = int(input(\"Enter your age: \"))\n",
    "print(\"Age:\", age)\n",
    "if age >= 18:\n",
    "    print(\"Eligible to vote.\")\n",
    "    if age >= 60:\n",
    "        print(\"You are a senior citizen.\")\n",
    "else:\n",
    "    print(\"Not eligible to vote.\")\n"
   ]
  },
  {
   "cell_type": "code",
   "execution_count": 16,
   "id": "a3210bca",
   "metadata": {},
   "outputs": [
    {
     "name": "stdout",
     "output_type": "stream",
     "text": [
      "Day number: 4\n",
      "Thursday\n"
     ]
    }
   ],
   "source": [
    "# 5. match-case Statement (Python 3.10+ only) \n",
    "# Problem: Day of the week using number input.\n",
    "day = int(input(\"Enter day number (1-7): \"))\n",
    "print(\"Day number:\", day)\n",
    "match day:\n",
    "    case 1:\n",
    "        print(\"Monday\")\n",
    "    case 2:\n",
    "        print(\"Tuesday\")\n",
    "    case 3:\n",
    "        print(\"Wednesday\")\n",
    "    case 4:\n",
    "        print(\"Thursday\")\n",
    "    case 5:\n",
    "        print(\"Friday\")\n",
    "    case 6:\n",
    "        print(\"Saturday\")\n",
    "    case 7:\n",
    "        print(\"Sunday\")\n",
    "    case _:\n",
    "        print(\"Invalid day number\")\n"
   ]
  },
  {
   "cell_type": "code",
   "execution_count": 17,
   "id": "fe4ebe82",
   "metadata": {},
   "outputs": [
    {
     "name": "stdout",
     "output_type": "stream",
     "text": [
      "Factorial of 5 is 120\n"
     ]
    }
   ],
   "source": [
    "# While loop to calculate factorial of a number\n",
    "num = 5\n",
    "factorial = 1\n",
    "i = 1\n",
    "while i <= num:\n",
    "    factorial *= i\n",
    "    i += 1\n",
    "print(f\"Factorial of {num} is {factorial}\")\n"
   ]
  }
 ],
 "metadata": {
  "kernelspec": {
   "display_name": "Python 3",
   "language": "python",
   "name": "python3"
  },
  "language_info": {
   "codemirror_mode": {
    "name": "ipython",
    "version": 3
   },
   "file_extension": ".py",
   "mimetype": "text/x-python",
   "name": "python",
   "nbconvert_exporter": "python",
   "pygments_lexer": "ipython3",
   "version": "3.13.4"
  }
 },
 "nbformat": 4,
 "nbformat_minor": 5
}
