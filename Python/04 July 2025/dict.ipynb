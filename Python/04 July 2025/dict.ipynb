{
 "cells": [
  {
   "cell_type": "code",
   "execution_count": 4,
   "id": "51472c20",
   "metadata": {},
   "outputs": [
    {
     "name": "stdout",
     "output_type": "stream",
     "text": [
      "{'name': 'Gurubachan', 'age': 30, 'city': 'Mumbai'}\n"
     ]
    }
   ],
   "source": [
    "# Dictionary\n",
    "\n",
    "thisdict = {\n",
    "    \"name\": \"Gurubachan\",\n",
    "    \"age\": 30,\n",
    "    \"city\": \"Mumbai\"\n",
    "}\n",
    "print(thisdict)"
   ]
  },
  {
   "cell_type": "code",
   "execution_count": 5,
   "id": "40b17fbc",
   "metadata": {},
   "outputs": [
    {
     "name": "stdout",
     "output_type": "stream",
     "text": [
      "Gurubachan\n"
     ]
    }
   ],
   "source": [
    "# access only name\n",
    "\n",
    "print(thisdict[\"name\"])"
   ]
  }
 ],
 "metadata": {
  "kernelspec": {
   "display_name": "Python 3",
   "language": "python",
   "name": "python3"
  },
  "language_info": {
   "codemirror_mode": {
    "name": "ipython",
    "version": 3
   },
   "file_extension": ".py",
   "mimetype": "text/x-python",
   "name": "python",
   "nbconvert_exporter": "python",
   "pygments_lexer": "ipython3",
   "version": "3.12.1"
  }
 },
 "nbformat": 4,
 "nbformat_minor": 5
}
