{
 "cells": [
  {
   "cell_type": "code",
   "execution_count": 9,
   "id": "a618f7e1",
   "metadata": {},
   "outputs": [
    {
     "name": "stdout",
     "output_type": "stream",
     "text": [
      "{'banana', 'cherry', 'apple'}\n"
     ]
    }
   ],
   "source": [
    "# Set \n",
    "\n",
    "thisset = {\"apple\", \"banana\", \"cherry\"}\n",
    "print(thisset)"
   ]
  },
  {
   "cell_type": "code",
   "execution_count": 10,
   "id": "15d1e5dd",
   "metadata": {},
   "outputs": [
    {
     "name": "stdout",
     "output_type": "stream",
     "text": [
      "Adding : {'banana', 'cherry', 'apple', 'orange'}\n",
      "Removing : {'cherry', 'apple', 'orange'}\n"
     ]
    }
   ],
   "source": [
    "# Add an item\n",
    "thisset.add(\"orange\")\n",
    "print(\"Adding :\",thisset)\n",
    "\n",
    "# Remove an item\n",
    "thisset.remove(\"banana\")\n",
    "print(\"Removing :\",thisset)"
   ]
  }
 ],
 "metadata": {
  "kernelspec": {
   "display_name": "Python 3",
   "language": "python",
   "name": "python3"
  },
  "language_info": {
   "codemirror_mode": {
    "name": "ipython",
    "version": 3
   },
   "file_extension": ".py",
   "mimetype": "text/x-python",
   "name": "python",
   "nbconvert_exporter": "python",
   "pygments_lexer": "ipython3",
   "version": "3.12.1"
  }
 },
 "nbformat": 4,
 "nbformat_minor": 5
}
