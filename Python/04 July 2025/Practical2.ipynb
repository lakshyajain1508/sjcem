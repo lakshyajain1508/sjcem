{
 "cells": [
  {
   "cell_type": "code",
   "execution_count": 11,
   "id": "7191ae68",
   "metadata": {},
   "outputs": [
    {
     "name": "stdout",
     "output_type": "stream",
     "text": [
      "Fruits : ['apple', 'banana', 'cherry']\n",
      "After adding orange: ['apple', 'banana', 'cherry', 'orange']\n",
      "After adding elements: ['apple', 'kiwi', 'banana', 'cherry', 'orange']\n",
      "After removing banana: ['apple', 'kiwi', 'cherry', 'orange']\n",
      "After popping element ['apple', 'kiwi', 'cherry']\n",
      "First fruit: apple\n",
      "After updating first fruit: ['grape', 'kiwi', 'cherry']\n",
      "Sorted fruits: ['cherry', 'grape', 'kiwi']\n",
      "Reversed fruits: ['kiwi', 'grape', 'cherry']\n",
      "Updated fruit list: ['kiwi', 'grape', 'cherry']\n",
      "Removed fruit: orange\n",
      "List length: 3\n"
     ]
    }
   ],
   "source": [
    "# 1. List Functions and Operations\n",
    "\n",
    "fruits = [\"apple\", \"banana\", \"cherry\"]\n",
    "print(\"Fruits :\",fruits)\n",
    "\n",
    "# Add Elements\n",
    "fruits.append(\"orange\")\n",
    "print(\"After adding orange:\", fruits)\n",
    "fruits.insert(1, \"kiwi\")\n",
    "print(\"After adding elements:\", fruits)\n",
    "\n",
    "# Remove Elements\n",
    "fruits.remove(\"banana\")\n",
    "print(\"After removing banana:\", fruits)\n",
    "last_fruits = fruits.pop()\n",
    "print(\"After popping element\", fruits)\n",
    "\n",
    "# Accessing and updating\n",
    "print(\"First fruit:\", fruits[0])\n",
    "fruits[0] = \"grape\"\n",
    "print(\"After updating first fruit:\", fruits)\n",
    "\n",
    "# Sorting and reversing\n",
    "fruits.sort()\n",
    "print(\"Sorted fruits:\", fruits)\n",
    "fruits.reverse()\n",
    "print(\"Reversed fruits:\", fruits)\n",
    "\n",
    "print(\"Updated fruit list:\", fruits)\n",
    "print(\"Removed fruit:\", last_fruits)\n",
    "print(\"List length:\", len(fruits))"
   ]
  },
  {
   "cell_type": "code",
   "execution_count": 17,
   "id": "3d1c487d",
   "metadata": {},
   "outputs": [
    {
     "name": "stdout",
     "output_type": "stream",
     "text": [
      "Coordinates: (10, 20, 30)\n",
      "First coordinate: 10\n",
      "Count of 20: 1\n",
      "Index of 30: 2\n",
      "Unpacked: x = 10, y = 20, z = 30\n",
      "Tuples are immutable: 'tuple' object does not support item assignment\n"
     ]
    }
   ],
   "source": [
    "# 2. Tuple Functions and Usage\n",
    "\n",
    "coordinates = (10, 20, 30)\n",
    "print(\"Coordinates:\", coordinates)\n",
    "\n",
    "# Accessing elements\n",
    "print(\"First coordinate:\", coordinates[0])\n",
    "\n",
    "# Count and index\n",
    "print(\"Count of 20:\", coordinates.count(20))\n",
    "print(\"Index of 30:\", coordinates.index(30))\n",
    "\n",
    "# Tuple unpacking\n",
    "x, y, z = coordinates\n",
    "print(f\"Unpacked: x = {x}, y = {y}, z = {z}\")\n",
    "\n",
    "# Immutability\n",
    "# coordinates[0] = 100 shows the error since tuples are immutable\n",
    "try:\n",
    "    coordinates[0] = 100  # This will raise an error\n",
    "except TypeError as e:\n",
    "    print(\"Tuples are immutable:\", e)\n"
   ]
  },
  {
   "cell_type": "code",
   "execution_count": 20,
   "id": "a3360f8b",
   "metadata": {},
   "outputs": [
    {
     "name": "stdout",
     "output_type": "stream",
     "text": [
      "Student Dictionary: {'name': 'Alice', 'age': 21, 'marks': {'math': 90, 'science': 85}}\n",
      "Student Name: Alice\n",
      "Math Marks: 90\n",
      "After adding grade: {'name': 'Alice', 'age': 21, 'marks': {'math': 90, 'science': 85}, 'grade': 'A'}\n",
      "After updating age: {'name': 'Alice', 'age': 22, 'marks': {'math': 90, 'science': 85}, 'grade': 'A'}\n",
      "After deleting marks: {'name': 'Alice', 'age': 22, 'grade': 'A'}\n",
      "\n",
      "All student data:\n",
      "name => Alice\n",
      "age => 22\n",
      "grade => A\n",
      "Keys: ['name', 'age', 'grade']\n",
      "Values: ['Alice', 22, 'A']\n",
      "Check if 'age' in student: True\n"
     ]
    }
   ],
   "source": [
    "# 3. Dictionary Functions and Usage\n",
    "\n",
    "student = {\n",
    "    \"name\": \"Alice\",\n",
    "    \"age\": 21,\n",
    "    \"marks\": {\"math\": 90, \"science\": 85}\n",
    "}\n",
    "print(\"Student Dictionary:\", student)\n",
    "\n",
    "# Accessing values\n",
    "print(\"Student Name:\", student[\"name\"])\n",
    "print(\"Math Marks:\", student[\"marks\"][\"math\"])\n",
    "\n",
    "# Adding and updating\n",
    "student[\"grade\"] = \"A\"\n",
    "print(\"After adding grade:\", student)\n",
    "student[\"age\"] = 22\n",
    "print(\"After updating age:\", student)\n",
    "\n",
    "# Deleting key\n",
    "del student[\"marks\"]\n",
    "print(\"After deleting marks:\", student)\n",
    "\n",
    "# Loop through keys and values\n",
    "print(\"\\nAll student data:\")\n",
    "for key, value in student.items():\n",
    "    print(f\"{key} => {value}\")\n",
    "\n",
    "# Dictionary methods\n",
    "print(\"Keys:\", list(student.keys()))\n",
    "print(\"Values:\", list(student.values()))\n",
    "print(\"Check if 'age' in student:\", 'age' in student)\n"
   ]
  },
  {
   "cell_type": "code",
   "execution_count": 24,
   "id": "27e362c3",
   "metadata": {},
   "outputs": [
    {
     "name": "stdout",
     "output_type": "stream",
     "text": [
      "\n",
      "List of Students:\n",
      "\n",
      "Name: Alice\n",
      "Age: 21\n",
      "Math Marks: 90\n",
      "Science Marks: 85\n",
      "\n",
      "Name: Bob\n",
      "Age: 22\n",
      "Math Marks: 80\n",
      "Science Marks: 75\n",
      "\n",
      "Name: Charlie\n",
      "Age: 20\n",
      "Math Marks: 95\n",
      "Science Marks: 90\n",
      "\n"
     ]
    }
   ],
   "source": [
    "# Create a list of dictionaries to represent multiple students\n",
    "\n",
    "students = [\n",
    "    {\"name\": \"Alice\", \"age\": 21, \"marks\": {\"math\": 90, \"science\": 85}},\n",
    "    {\"name\": \"Bob\", \"age\": 22, \"marks\": {\"math\": 80, \"science\": 75}},\n",
    "    {\"name\": \"Charlie\", \"age\": 20, \"marks\": {\"math\": 95, \"science\": 90}}\n",
    "]\n",
    "\n",
    "print(\"\\nList of Students:\")\n",
    "print()\n",
    "for student in students:\n",
    "    print(\"Name:\", student[\"name\"])\n",
    "    print(\"Age:\", student[\"age\"])\n",
    "    print(\"Math Marks:\", student[\"marks\"][\"math\"])\n",
    "    print(\"Science Marks:\", student[\"marks\"][\"science\"])\n",
    "    print()\n"
   ]
  },
  {
   "cell_type": "code",
   "execution_count": 27,
   "id": "7e15acac",
   "metadata": {},
   "outputs": [
    {
     "name": "stdout",
     "output_type": "stream",
     "text": [
      "\n",
      "Subject Marks Dictionary:\n",
      "math = (90, 85, 95)\n",
      "science = (80, 75, 90)\n",
      "english = (88, 92, 85)\n"
     ]
    }
   ],
   "source": [
    "# Create a dictionary where the key is a subject name and the value is a tuple of marks.\n",
    "\n",
    "subject_marks = {\n",
    "    \"math\": (90, 85, 95),\n",
    "    \"science\": (80, 75, 90),\n",
    "    \"english\": (88, 92, 85)\n",
    "}\n",
    "print(\"\\nSubject Marks Dictionary:\")\n",
    "for key, value in subject_marks.items():\n",
    "    print(f\"{key} = {value}\")"
   ]
  },
  {
   "cell_type": "code",
   "execution_count": 29,
   "id": "e6950dbf",
   "metadata": {},
   "outputs": [
    {
     "name": "stdout",
     "output_type": "stream",
     "text": [
      "\n",
      "Original List: [1, 2, 3, 4, 5]\n",
      "\n",
      "Converted Tuple: (1, 2, 3, 4, 5)\n"
     ]
    }
   ],
   "source": [
    "# Convert a list into a tuple \n",
    "\n",
    "my_list = [1, 2, 3, 4, 5]\n",
    "print(\"\\nOriginal List:\", my_list)\n",
    "my_tuple = tuple(my_list)\n",
    "print(\"\\nConverted Tuple:\", my_tuple)"
   ]
  }
 ],
 "metadata": {
  "kernelspec": {
   "display_name": "Python 3",
   "language": "python",
   "name": "python3"
  },
  "language_info": {
   "codemirror_mode": {
    "name": "ipython",
    "version": 3
   },
   "file_extension": ".py",
   "mimetype": "text/x-python",
   "name": "python",
   "nbconvert_exporter": "python",
   "pygments_lexer": "ipython3",
   "version": "3.12.1"
  }
 },
 "nbformat": 4,
 "nbformat_minor": 5
}
