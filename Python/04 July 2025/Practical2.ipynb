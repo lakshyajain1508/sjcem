{
 "cells": [
  {
   "cell_type": "code",
   "execution_count": 11,
   "id": "7191ae68",
   "metadata": {},
   "outputs": [
    {
     "name": "stdout",
     "output_type": "stream",
     "text": [
      "Fruits : ['apple', 'banana', 'cherry']\n",
      "After adding orange: ['apple', 'banana', 'cherry', 'orange']\n",
      "After adding elements: ['apple', 'kiwi', 'banana', 'cherry', 'orange']\n",
      "After removing banana: ['apple', 'kiwi', 'cherry', 'orange']\n",
      "After popping element ['apple', 'kiwi', 'cherry']\n",
      "First fruit: apple\n",
      "After updating first fruit: ['grape', 'kiwi', 'cherry']\n",
      "Sorted fruits: ['cherry', 'grape', 'kiwi']\n",
      "Reversed fruits: ['kiwi', 'grape', 'cherry']\n",
      "Updated fruit list: ['kiwi', 'grape', 'cherry']\n",
      "Removed fruit: orange\n",
      "List length: 3\n"
     ]
    }
   ],
   "source": [
    "# 1. List Functions and Operations\n",
    "\n",
    "fruits = [\"apple\", \"banana\", \"cherry\"]\n",
    "print(\"Fruits :\",fruits)\n",
    "\n",
    "# Add Elements\n",
    "fruits.append(\"orange\")\n",
    "print(\"After adding orange:\", fruits)\n",
    "fruits.insert(1, \"kiwi\")\n",
    "print(\"After adding elements:\", fruits)\n",
    "\n",
    "# Remove Elements\n",
    "fruits.remove(\"banana\")\n",
    "print(\"After removing banana:\", fruits)\n",
    "last_fruits = fruits.pop()\n",
    "print(\"After popping element\", fruits)\n",
    "\n",
    "# Accessing and updating\n",
    "print(\"First fruit:\", fruits[0])\n",
    "fruits[0] = \"grape\"\n",
    "print(\"After updating first fruit:\", fruits)\n",
    "\n",
    "# Sorting and reversing\n",
    "fruits.sort()\n",
    "print(\"Sorted fruits:\", fruits)\n",
    "fruits.reverse()\n",
    "print(\"Reversed fruits:\", fruits)\n",
    "\n",
    "print(\"Updated fruit list:\", fruits)\n",
    "print(\"Removed fruit:\", last_fruits)\n",
    "print(\"List length:\", len(fruits))"
   ]
  },
  {
   "cell_type": "code",
   "execution_count": null,
   "id": "3d1c487d",
   "metadata": {},
   "outputs": [],
   "source": [
    "# 2. Tuple Functions and Usage\n",
    "\n"
   ]
  }
 ],
 "metadata": {
  "kernelspec": {
   "display_name": "Python 3",
   "language": "python",
   "name": "python3"
  },
  "language_info": {
   "codemirror_mode": {
    "name": "ipython",
    "version": 3
   },
   "file_extension": ".py",
   "mimetype": "text/x-python",
   "name": "python",
   "nbconvert_exporter": "python",
   "pygments_lexer": "ipython3",
   "version": "3.12.1"
  }
 },
 "nbformat": 4,
 "nbformat_minor": 5
}
