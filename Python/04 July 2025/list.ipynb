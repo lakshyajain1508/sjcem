{
 "cells": [
  {
   "cell_type": "code",
   "execution_count": 2,
   "id": "5667e4c4",
   "metadata": {},
   "outputs": [
    {
     "name": "stdout",
     "output_type": "stream",
     "text": [
      "['apple', 'banana', 'cherry']\n"
     ]
    }
   ],
   "source": [
    "# List\n",
    "\n",
    "listlist = [\"apple\", \"banana\", \"cherry\"]\n",
    "print(listlist)"
   ]
  },
  {
   "cell_type": "code",
   "execution_count": null,
   "id": "f28a31e4",
   "metadata": {},
   "outputs": [
    {
     "name": "stdout",
     "output_type": "stream",
     "text": [
      "['apple', 'orange', 'cherry']\n"
     ]
    }
   ],
   "source": [
    "# Changeable \n",
    "listlist[1] = \"orange\"\n",
    "print(listlist)"
   ]
  },
  {
   "cell_type": "code",
   "execution_count": 5,
   "id": "f11e3af8",
   "metadata": {},
   "outputs": [
    {
     "name": "stdout",
     "output_type": "stream",
     "text": [
      "['apple', 'banana', 'cherry']\n",
      "[1, 2, 3, 4, 5]\n",
      "[True, False, False]\n",
      "['abc', 34, True, 40, 'male']\n"
     ]
    }
   ],
   "source": [
    "# data types of list\n",
    "\n",
    "list1 = [\"apple\", \"banana\", \"cherry\"]\n",
    "list2 = [1, 2, 3, 4, 5]\n",
    "list3 = [True, False, False]\n",
    "list4 = [\"abc\", 34 , True, 40, \"male\"]\n",
    "\n",
    "print(list1)\n",
    "print(list2)\n",
    "print(list3)\n",
    "print(list4)"
   ]
  }
 ],
 "metadata": {
  "kernelspec": {
   "display_name": "Python 3",
   "language": "python",
   "name": "python3"
  },
  "language_info": {
   "codemirror_mode": {
    "name": "ipython",
    "version": 3
   },
   "file_extension": ".py",
   "mimetype": "text/x-python",
   "name": "python",
   "nbconvert_exporter": "python",
   "pygments_lexer": "ipython3",
   "version": "3.12.1"
  }
 },
 "nbformat": 4,
 "nbformat_minor": 5
}
