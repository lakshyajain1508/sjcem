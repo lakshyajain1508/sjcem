{
 "cells": [
  {
   "cell_type": "code",
   "execution_count": 15,
   "id": "6f3b40f4",
   "metadata": {},
   "outputs": [
    {
     "name": "stdout",
     "output_type": "stream",
     "text": [
      "Original 1D Array: [10 20 30 40 50]\n",
      "Shape: (5,)\n"
     ]
    }
   ],
   "source": [
    "# 1D Array Example\n",
    "import numpy as np\n",
    "\n",
    "# Create 1D array\n",
    "arr1 = np.array([10,20,30,40,50])\n",
    "print(\"Original 1D Array:\",arr1)\n",
    "print(\"Shape:\", arr1.shape)"
   ]
  },
  {
   "cell_type": "code",
   "execution_count": 14,
   "id": "87ef498a",
   "metadata": {},
   "outputs": [
    {
     "name": "stdout",
     "output_type": "stream",
     "text": [
      "Data Type: int64\n",
      "Sum: 150\n",
      "Mean: 30.0\n",
      "Maximum: 50\n",
      "Minimum: 10\n"
     ]
    }
   ],
   "source": [
    "# Basic Operations\n",
    "print(\"Data Type:\", arr1.dtype)\n",
    "print(\"Sum:\", arr1.sum())\n",
    "print(\"Mean:\", arr1.mean())\n",
    "print(\"Maximum:\", arr1.max())\n",
    "print(\"Minimum:\", arr1.min())"
   ]
  },
  {
   "cell_type": "code",
   "execution_count": 13,
   "id": "59969b45",
   "metadata": {},
   "outputs": [
    {
     "name": "stdout",
     "output_type": "stream",
     "text": [
      "Array + 5: [15 25 35 45 55]\n",
      "Array * 2: [ 20  40  60  80 100]\n"
     ]
    }
   ],
   "source": [
    "# Element-wise operations\n",
    "\n",
    "print(\"Array + 5:\", arr1 + 5)\n",
    "print(\"Array * 2:\", arr1 * 2)"
   ]
  },
  {
   "cell_type": "code",
   "execution_count": 26,
   "id": "63c07ff6",
   "metadata": {},
   "outputs": [
    {
     "name": "stdout",
     "output_type": "stream",
     "text": [
      "First 3 elements: [10 20 30]\n",
      "Last 2 elements: [40 50]\n"
     ]
    }
   ],
   "source": [
    "# Slicing\n",
    "print(\"First 3 elements:\", arr1[:3])\n",
    "print(\"Last 2 elements:\", arr1[-2:])"
   ]
  },
  {
   "cell_type": "code",
   "execution_count": 28,
   "id": "5395b492",
   "metadata": {},
   "outputs": [
    {
     "name": "stdout",
     "output_type": "stream",
     "text": [
      "Original 2D Array:\n",
      " [[1 2 3]\n",
      " [4 5 6]]\n",
      "Shape: (2, 3)\n"
     ]
    }
   ],
   "source": [
    "# 2D Array Example\n",
    "import numpy as np\n",
    "\n",
    "arr2 = np.array([[1, 2, 3], [4, 5, 6]])\n",
    "print(\"Original 2D Array:\\n\", arr2)\n",
    "print(\"Shape:\", arr2.shape)\n"
   ]
  }
 ],
 "metadata": {
  "kernelspec": {
   "display_name": "Python 3",
   "language": "python",
   "name": "python3"
  },
  "language_info": {
   "codemirror_mode": {
    "name": "ipython",
    "version": 3
   },
   "file_extension": ".py",
   "mimetype": "text/x-python",
   "name": "python",
   "nbconvert_exporter": "python",
   "pygments_lexer": "ipython3",
   "version": "3.12.1"
  }
 },
 "nbformat": 4,
 "nbformat_minor": 5
}
