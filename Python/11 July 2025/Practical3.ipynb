{
 "cells": [
  {
   "cell_type": "code",
   "execution_count": 15,
   "id": "6f3b40f4",
   "metadata": {},
   "outputs": [
    {
     "name": "stdout",
     "output_type": "stream",
     "text": [
      "Original 1D Array: [10 20 30 40 50]\n",
      "Shape: (5,)\n"
     ]
    }
   ],
   "source": [
    "# 1D Array Example\n",
    "import numpy as np\n",
    "\n",
    "# Create 1D array\n",
    "arr1 = np.array([10,20,30,40,50])\n",
    "print(\"Original 1D Array:\",arr1)\n",
    "print(\"Shape:\", arr1.shape)"
   ]
  },
  {
   "cell_type": "code",
   "execution_count": 14,
   "id": "87ef498a",
   "metadata": {},
   "outputs": [
    {
     "name": "stdout",
     "output_type": "stream",
     "text": [
      "Data Type: int64\n",
      "Sum: 150\n",
      "Mean: 30.0\n",
      "Maximum: 50\n",
      "Minimum: 10\n"
     ]
    }
   ],
   "source": [
    "# Basic Operations\n",
    "print(\"Data Type:\", arr1.dtype)\n",
    "print(\"Sum:\", arr1.sum())\n",
    "print(\"Mean:\", arr1.mean())\n",
    "print(\"Maximum:\", arr1.max())\n",
    "print(\"Minimum:\", arr1.min())"
   ]
  },
  {
   "cell_type": "code",
   "execution_count": 13,
   "id": "59969b45",
   "metadata": {},
   "outputs": [
    {
     "name": "stdout",
     "output_type": "stream",
     "text": [
      "Array + 5: [15 25 35 45 55]\n",
      "Array * 2: [ 20  40  60  80 100]\n"
     ]
    }
   ],
   "source": [
    "# Element-wise operations\n",
    "\n",
    "print(\"Array + 5:\", arr1 + 5)\n",
    "print(\"Array * 2:\", arr1 * 2)"
   ]
  },
  {
   "cell_type": "code",
   "execution_count": 26,
   "id": "63c07ff6",
   "metadata": {},
   "outputs": [
    {
     "name": "stdout",
     "output_type": "stream",
     "text": [
      "First 3 elements: [10 20 30]\n",
      "Last 2 elements: [40 50]\n"
     ]
    }
   ],
   "source": [
    "# Slicing\n",
    "print(\"First 3 elements:\", arr1[:3])\n",
    "print(\"Last 2 elements:\", arr1[-2:])"
   ]
  },
  {
   "cell_type": "code",
   "execution_count": 45,
   "id": "5395b492",
   "metadata": {},
   "outputs": [
    {
     "name": "stdout",
     "output_type": "stream",
     "text": [
      "Original 2D Array:\n",
      " [[1 2 3]\n",
      " [4 5 6]]\n",
      "Shape: (2, 3)\n"
     ]
    }
   ],
   "source": [
    "# 2D Array Example\n",
    "import numpy as np\n",
    "\n",
    "arr2 = np.array([[1, 2, 3], [4, 5, 6]])\n",
    "print(\"Original 2D Array:\\n\", arr2)\n",
    "print(\"Shape:\", arr2.shape)\n"
   ]
  },
  {
   "cell_type": "code",
   "execution_count": 7,
   "id": "1b609796",
   "metadata": {},
   "outputs": [
    {
     "name": "stdout",
     "output_type": "stream",
     "text": [
      "Element at (0, 1): 2\n",
      "First row: [1 2 3]\n",
      "Second column: [2 5]\n"
     ]
    }
   ],
   "source": [
    "# Accessing Elements\n",
    "print(\"Element at (0, 1):\", arr2[0, 1])\n",
    "# Rows and Columns\n",
    "print(\"First row:\", arr2[0])\n",
    "print(\"Second column:\", arr2[:, 1])\n"
   ]
  },
  {
   "cell_type": "code",
   "execution_count": 8,
   "id": "34eb10de",
   "metadata": {},
   "outputs": [
    {
     "name": "stdout",
     "output_type": "stream",
     "text": [
      "Transposed Array:\n",
      " [[1 4]\n",
      " [2 5]\n",
      " [3 6]]\n"
     ]
    }
   ],
   "source": [
    "# Transpose\n",
    "print(\"Transposed Array:\\n\", arr2.T)\n"
   ]
  },
  {
   "cell_type": "code",
   "execution_count": 33,
   "id": "ebe740fd",
   "metadata": {},
   "outputs": [
    {
     "name": "stdout",
     "output_type": "stream",
     "text": [
      "Row-wise sum: [ 6 15]\n",
      "Column-wise sum: [5 7 9]\n"
     ]
    }
   ],
   "source": [
    "# Mathematical operations\n",
    "print(\"Row-wise sum:\", np.sum(arr2, axis=1))\n",
    "print(\"Column-wise sum:\", np.sum(arr2, axis=0))\n"
   ]
  },
  {
   "cell_type": "code",
   "execution_count": 18,
   "id": "2caf29f1",
   "metadata": {},
   "outputs": [
    {
     "name": "stdout",
     "output_type": "stream",
     "text": [
      "Reshaped Array:\n",
      " [[1 2]\n",
      " [3 4]\n",
      " [5 6]]\n",
      "Flattened Array: [1 2 3 4 5 6]\n"
     ]
    }
   ],
   "source": [
    "# Reshaping\n",
    "\n",
    "reshaped = arr2.reshape((3, 2))\n",
    "print(\"Reshaped Array:\\n\", reshaped)\n",
    "\n",
    "# Flattening\n",
    "flat = arr2.flatten()\n",
    "print(\"Flattened Array:\", flat)"
   ]
  },
  {
   "cell_type": "code",
   "execution_count": null,
   "id": "786e56e0",
   "metadata": {},
   "outputs": [],
   "source": [
    "first_row = np.array([arr2[0]])\n",
    "print(\"First row as new array:\\n\", first_row)\n",
    "print(\"Row-wise sum:\", np.sum(first_row, axis=1))"
   ]
  },
  {
   "cell_type": "code",
   "execution_count": 53,
   "id": "5f46de2c",
   "metadata": {},
   "outputs": [
    {
     "name": "stdout",
     "output_type": "stream",
     "text": [
      "Marks Array:\n",
      " [[85 90 78 92]\n",
      " [88 76 95 89]\n",
      " [90 85 80 88]]\n",
      "\n",
      "First row:\n",
      " [[85 90 78 92]]\n",
      "Average Marks Of student 1: [86.25]\n",
      "\n",
      "Secong row:\n",
      " [[85 90 78 92]]\n",
      "Average Marks Of student 2: [87.]\n",
      "\n",
      "Third row:\n",
      " [[85 90 78 92]]\n",
      "Average Marks Of student 3 [85.75]\n",
      "\n"
     ]
    }
   ],
   "source": [
    "# Exercise\n",
    "# 1. Create a 2D array of marks for 3 students in 4 subjects.\n",
    "\n",
    "marks = np.array([[85, 90, 78, 92], [88, 76, 95, 89], [90, 85, 80, 88]])\n",
    "print(\"Marks Array:\\n\", marks)\n",
    "print()\n",
    "# 2. Calculate average marks for each student (row-wise).\n",
    "first_row = np.array([marks[0]])\n",
    "print(\"First row:\\n\", first_row)\n",
    "average_marks = np.mean(first_row, axis=1)\n",
    "print(\"Average Marks Of student 1:\", average_marks)\n",
    "print()\n",
    "\n",
    "second_row = np.array([marks[1]])\n",
    "print(\"Secong row:\\n\", first_row)\n",
    "average_marks = np.mean(second_row, axis=1)\n",
    "print(\"Average Marks Of student 2:\", average_marks)\n",
    "print()\n",
    "\n",
    "third_row = np.array([marks[2]])\n",
    "print(\"Third row:\\n\", first_row)\n",
    "average_marks = np.mean(third_row, axis=1)\n",
    "print(\"Average Marks Of student 3\", average_marks)\n",
    "print()\n",
    "\n"
   ]
  },
  {
   "cell_type": "code",
   "execution_count": null,
   "id": "0f2835e4",
   "metadata": {},
   "outputs": [
    {
     "name": "stdout",
     "output_type": "stream",
     "text": [
      "Array 1: [1 2 3]\n",
      "Array 2: [4 5 6]\n",
      "Element-wise Addition: [5 7 9]\n",
      "Element-wise Subtraction: [-3 -3 -3]\n",
      "Element-wise Multiplication: [ 4 10 18]\n"
     ]
    }
   ],
   "source": [
    "# 4. Create two arrays and perform element-wise addition, subtraction, multiplication.\n",
    "\n",
    "arr3 = np.array([1, 2, 3])\n",
    "arr4 = np.array([4, 5, 6])\n",
    "\n",
    "print(\"Array 1:\", arr3)\n",
    "print(\"Array 2:\", arr4)\n",
    "\n",
    "print(\"Element-wise Addition:\", arr3 + arr4)\n",
    "print(\"Element-wise Subtraction:\", arr3 - arr4)\n",
    "print(\"Element-wise Multiplication:\", arr3 * arr4)\n"
   ]
  }
 ],
 "metadata": {
  "kernelspec": {
   "display_name": "Python 3",
   "language": "python",
   "name": "python3"
  },
  "language_info": {
   "codemirror_mode": {
    "name": "ipython",
    "version": 3
   },
   "file_extension": ".py",
   "mimetype": "text/x-python",
   "name": "python",
   "nbconvert_exporter": "python",
   "pygments_lexer": "ipython3",
   "version": "3.12.1"
  }
 },
 "nbformat": 4,
 "nbformat_minor": 5
}
