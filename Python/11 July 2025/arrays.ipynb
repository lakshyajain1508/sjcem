{
 "cells": [
  {
   "cell_type": "code",
   "execution_count": 5,
   "id": "6f3b40f4",
   "metadata": {},
   "outputs": [
    {
     "name": "stdout",
     "output_type": "stream",
     "text": [
      "Original 1D Array: [10 20 30 40 50]\n",
      "Shape: (5,)\n",
      "Data Type: int64\n",
      "Sum: 150\n",
      "Mean: 30.0\n",
      "Maximum: 50\n",
      "Minimum: 10\n"
     ]
    }
   ],
   "source": [
    "# 1D Array Example\n",
    "import numpy as np\n",
    "\n",
    "arr1 = np.array([10,20,30,40,50])\n",
    "print(\"Original 1D Array:\",arr1)\n",
    "print(\"Shape:\", arr1.shape)\n",
    "print(\"Data Type:\", arr1.dtype)\n",
    "print(\"Sum:\", arr1.sum())\n",
    "print(\"Mean:\", arr1.mean())\n",
    "print(\"Maximum:\", arr1.max())\n",
    "print(\"Minimum:\", arr1.min())"
   ]
  }
 ],
 "metadata": {
  "kernelspec": {
   "display_name": "Python 3",
   "language": "python",
   "name": "python3"
  },
  "language_info": {
   "codemirror_mode": {
    "name": "ipython",
    "version": 3
   },
   "file_extension": ".py",
   "mimetype": "text/x-python",
   "name": "python",
   "nbconvert_exporter": "python",
   "pygments_lexer": "ipython3",
   "version": "3.12.1"
  }
 },
 "nbformat": 4,
 "nbformat_minor": 5
}
