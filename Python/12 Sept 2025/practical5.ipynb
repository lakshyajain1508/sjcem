{
 "cells": [
  {
   "cell_type": "code",
   "execution_count": 5,
   "id": "e6bae7b1",
   "metadata": {},
   "outputs": [],
   "source": [
    "# 1. Define a Simple Class and Create Objects\n",
    "# print(\"--- Simple Class and Objects ---\")\n",
    "\n",
    "class Dog:\n",
    "    # Class attribute (shared by all instances)\n",
    "    species = \"Canis familiaris\"\n",
    "\n",
    "    # Constructor method to initialize object attributes\n",
    "    def __init__(self, name, breed, age):\n",
    "        # Instance attributes (unique to each object)\n",
    "        self.name = name\n",
    "        self.breed = breed\n",
    "        self.age = age\n",
    "\n",
    "    # Instance method\n",
    "    def bark(self):\n",
    "        return f\"{self.name} says Woof!\"\n",
    "\n",
    "    def describe(self):\n",
    "        return f\"{self.name} is a {self.age}-year-old {self.breed}.\"\n",
    "\n",
    "# Create objects (instances) of the Dog class\n",
    "dog1 = Dog(\"Buddy\", \"Golden Retriever\", 5)\n",
    "dog2 = Dog(\"Lucy\", \"Labrador\", 3)\n"
   ]
  },
  {
   "cell_type": "code",
   "execution_count": 6,
   "id": "8b21044b",
   "metadata": {},
   "outputs": [
    {
     "name": "stdout",
     "output_type": "stream",
     "text": [
      "Dog 1 Name: Buddy\n",
      "Dog 1 Breed: Golden Retriever\n",
      "Buddy says Woof!\n",
      "Buddy is a 5-year-old Golden Retriever.\n",
      "\n",
      "Dog 2 Name: Lucy\n",
      "Dog 2 Age: 3\n",
      "Lucy says Woof!\n",
      "Lucy is a 3-year-old Labrador.\n"
     ]
    }
   ],
   "source": [
    "# 2. Access Attributes and Call Methods\n",
    "print(f\"Dog 1 Name: {dog1.name}\")\n",
    "print(f\"Dog 1 Breed: {dog1.breed}\")\n",
    "print(dog1.bark())\n",
    "print(dog1.describe())\n",
    "\n",
    "print(f\"\\nDog 2 Name: {dog2.name}\")\n",
    "print(f\"Dog 2 Age: {dog2.age}\")\n",
    "print(dog2.bark())\n",
    "print(dog2.describe())\n"
   ]
  },
  {
   "cell_type": "code",
   "execution_count": 7,
   "id": "dc7cbf5d",
   "metadata": {},
   "outputs": [
    {
     "name": "stdout",
     "output_type": "stream",
     "text": [
      "\n",
      "--- Class vs. Instance Attributes ---\n",
      "Dog 1 species (instance access): Canis familiaris\n",
      "Dog 2 species (instance access): Canis familiaris\n",
      "Class species (class access): Canis familiaris\n",
      "Dog 1 new age: 6\n",
      "Dog 2 age (unchanged): 3\n",
      "Dog 1 new species: Domestic Dog\n",
      "Dog 2 new species: Domestic Dog\n"
     ]
    }
   ],
   "source": [
    "# 3. Demonstrate Class vs. Instance Attributes\n",
    "print(\"\\n--- Class vs. Instance Attributes ---\")\n",
    "print(f\"Dog 1 species (instance access): {dog1.species}\")\n",
    "print(f\"Dog 2 species (instance access): {dog2.species}\")\n",
    "print(f\"Class species (class access): {Dog.species}\")\n",
    "\n",
    "# Modify an instance attribute (does not affect other instances or class attribute)\n",
    "dog1.age = 6\n",
    "print(f\"Dog 1 new age: {dog1.age}\")\n",
    "print(f\"Dog 2 age (unchanged): {dog2.age}\")\n",
    "\n",
    "# Modify a class attribute (affects all instances and future instances)\n",
    "Dog.species = \"Domestic Dog\"\n",
    "print(f\"Dog 1 new species: {dog1.species}\")\n",
    "print(f\"Dog 2 new species: {dog2.species}\")"
   ]
  },
  {
   "cell_type": "code",
   "execution_count": 8,
   "id": "ff229350",
   "metadata": {},
   "outputs": [
    {
     "name": "stdout",
     "output_type": "stream",
     "text": [
      "\n",
      "--- Car Class Example ---\n",
      "My car: 2022 Toyota Camry\n",
      "Initial odometer: 0\n",
      "Drove 100 miles. Odometer now at 100.\n",
      "Drove 50 miles. Odometer now at 150.\n"
     ]
    }
   ],
   "source": [
    "# Another example class with a constructor\n",
    "class Car:\n",
    "    def __init__(self, make, model, year):\n",
    "        self.make = make\n",
    "        self.model = model\n",
    "        self.year = year\n",
    "        self.odometer_reading = 0 # Default attribute\n",
    "\n",
    "    def get_description(self):\n",
    "        return f\"{self.year} {self.make} {self.model}\"\n",
    "\n",
    "    def drive(self, miles):\n",
    "        self.odometer_reading += miles\n",
    "        print(f\"Drove {miles} miles. Odometer now at {self.odometer_reading}.\")\n",
    "\n",
    "print(\"\\n--- Car Class Example ---\")\n",
    "my_car = Car(\"Toyota\", \"Camry\", 2022)\n",
    "print(f\"My car: {my_car.get_description()}\")\n",
    "print(f\"Initial odometer: {my_car.odometer_reading}\")\n",
    "my_car.drive(100)\n",
    "my_car.drive(50)"
   ]
  }
 ],
 "metadata": {
  "kernelspec": {
   "display_name": "Python 3",
   "language": "python",
   "name": "python3"
  },
  "language_info": {
   "codemirror_mode": {
    "name": "ipython",
    "version": 3
   },
   "file_extension": ".py",
   "mimetype": "text/x-python",
   "name": "python",
   "nbconvert_exporter": "python",
   "pygments_lexer": "ipython3",
   "version": "3.12.1"
  }
 },
 "nbformat": 4,
 "nbformat_minor": 5
}
