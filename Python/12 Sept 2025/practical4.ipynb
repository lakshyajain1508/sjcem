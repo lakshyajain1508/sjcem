{
 "cells": [
  {
   "cell_type": "code",
   "execution_count": 1,
   "id": "a8030514",
   "metadata": {},
   "outputs": [],
   "source": [
    "# 1. Define and Call Simple Functions\n",
    "\n",
    "# Function with no arguments and no return value\n",
    "def greet():\n",
    "    print(\"Hello from a simple function!\")\n"
   ]
  },
  {
   "cell_type": "code",
   "execution_count": 4,
   "id": "21f26f95",
   "metadata": {},
   "outputs": [
    {
     "name": "stdout",
     "output_type": "stream",
     "text": [
      "Hello from a simple function!\n"
     ]
    }
   ],
   "source": [
    "greet()"
   ]
  },
  {
   "cell_type": "code",
   "execution_count": 5,
   "id": "7c2c4804",
   "metadata": {},
   "outputs": [
    {
     "name": "stdout",
     "output_type": "stream",
     "text": [
      "Hello, Alice!\n",
      "Hello, Bob!\n"
     ]
    }
   ],
   "source": [
    "# Function with arguments and no return value\n",
    "def greet_person(name):\n",
    "    print(f\"Hello, {name}!\")\n",
    "\n",
    "greet_person(\"Alice\")\n",
    "greet_person(\"Bob\")\n"
   ]
  },
  {
   "cell_type": "code",
   "execution_count": 7,
   "id": "f4cf7e64",
   "metadata": {},
   "outputs": [
    {
     "name": "stdout",
     "output_type": "stream",
     "text": [
      "Sum of 10 and 20: 30\n",
      "Product of 5 and 6: 30\n"
     ]
    }
   ],
   "source": [
    "# Function with arguments and a return value\n",
    "def add_numbers(a, b):\n",
    "    sum_result = a + b\n",
    "    return sum_result\n",
    "\n",
    "def mul_num(a,b):\n",
    "    mul = a*b\n",
    "    return mul\n",
    "    \n",
    "result = add_numbers(10, 20)\n",
    "print(f\"Sum of 10 and 20: {result}\")\n",
    "print(f\"Product of 5 and 6: {mul_num(5, 6)}\") # Reusing the function for another purpose"
   ]
  },
  {
   "cell_type": "code",
   "execution_count": 8,
   "id": "550fa1df",
   "metadata": {},
   "outputs": [
    {
     "name": "stdout",
     "output_type": "stream",
     "text": [
      "Charlie is 25 years old.\n"
     ]
    }
   ],
   "source": [
    "# 2. Function Arguments\n",
    "\n",
    "# Positional Arguments (order matters)\n",
    "def describe_person(name, age):\n",
    "    print(f\"{name} is {age} years old.\")\n",
    "\n",
    "describe_person(\"Charlie\", 25)"
   ]
  },
  {
   "cell_type": "code",
   "execution_count": 10,
   "id": "206ec3c8",
   "metadata": {},
   "outputs": [
    {
     "name": "stdout",
     "output_type": "stream",
     "text": [
      "Diana is 30 years old.\n",
      "5 to the power of 2 (default): 25\n",
      "5 to the power of 3: 125\n"
     ]
    }
   ],
   "source": [
    "# Keyword Arguments (order does not matter, clearer)\n",
    "describe_person(age=30, name=\"Diana\")\n",
    "\n",
    "# Default Arguments (optional arguments)\n",
    "def power(base, exponent=2):\n",
    "    return base ** exponent\n",
    "\n",
    "print(f\"5 to the power of 2 (default): {power(5)}\")\n",
    "print(f\"5 to the power of 3: {power(5, 3)}\")\n"
   ]
  },
  {
   "cell_type": "code",
   "execution_count": 11,
   "id": "0654bc80",
   "metadata": {},
   "outputs": [
    {
     "name": "stdout",
     "output_type": "stream",
     "text": [
      "Sum of (1, 2, 3): 6\n",
      "Sum of (10, 20, 30, 40, 50): 150\n"
     ]
    }
   ],
   "source": [
    "# Variable-length Arguments (*args for non-keyword arguments)\n",
    "def sum_all(*args):\n",
    "    total = 0\n",
    "    for num in args:\n",
    "        total += num\n",
    "    return total\n",
    "\n",
    "print(f\"Sum of (1, 2, 3): {sum_all(1, 2, 3)}\")\n",
    "print(f\"Sum of (10, 20, 30, 40, 50): {sum_all(10, 20, 30, 40, 50)}\")"
   ]
  },
  {
   "cell_type": "code",
   "execution_count": 12,
   "id": "49bee2c8",
   "metadata": {},
   "outputs": [
    {
     "name": "stdout",
     "output_type": "stream",
     "text": [
      "--- User Profile ---\n",
      "Name: Eve\n",
      "Age: 28\n",
      "Occupation: Engineer\n",
      "--- User Profile ---\n",
      "Product: Laptop\n",
      "Price: 1200\n",
      "Category: Electronics\n"
     ]
    }
   ],
   "source": [
    "# Variable-length Keyword Arguments (**kwargs for keyword arguments)\n",
    "def print_profile(**kwargs):\n",
    "    print(\"--- User Profile ---\")\n",
    "    for key, value in kwargs.items():\n",
    "        print(f\"{key.replace('_', ' ').title()}: {value}\")\n",
    "\n",
    "print_profile(name=\"Eve\", age=28, occupation=\"Engineer\")\n",
    "print_profile(product=\"Laptop\", price=1200, category=\"Electronics\")"
   ]
  },
  {
   "cell_type": "code",
   "execution_count": 13,
   "id": "e816f7c9",
   "metadata": {},
   "outputs": [
    {
     "name": "stdout",
     "output_type": "stream",
     "text": [
      "\n",
      "--- Recursion: Factorial ---\n",
      "Factorial of 5: 120\n",
      "Factorial of 0: 1\n"
     ]
    }
   ],
   "source": [
    "# 3. Recursive Function (Factorial)\n",
    "print(\"\\n--- Recursion: Factorial ---\")\n",
    "def factorial(n):\n",
    "    # Base case: factorial of 0 or 1 is 1\n",
    "    if n == 0 or n == 1:\n",
    "        return 1\n",
    "    # Recursive step: n! = n * (n-1)!\n",
    "    else:\n",
    "        return n * factorial(n - 1)\n",
    "\n",
    "print(f\"Factorial of 5: {factorial(5)}\") # Expected: 120\n",
    "print(f\"Factorial of 0: {factorial(0)}\") # Expected: 1"
   ]
  },
  {
   "cell_type": "code",
   "execution_count": 14,
   "id": "3225bbca",
   "metadata": {},
   "outputs": [
    {
     "name": "stdout",
     "output_type": "stream",
     "text": [
      "\n",
      "--- Recursion: Fibonacci Sequence ---\n",
      "Fibonacci sequence up to 8 terms:\n",
      "0 1 1 2 3 5 8 13 \n"
     ]
    }
   ],
   "source": [
    "# 4. Recursive Function (Fibonacci Sequence)\n",
    "print(\"\\n--- Recursion: Fibonacci Sequence ---\")\n",
    "def fibonacci(n):\n",
    "    # Base cases:\n",
    "    if n <= 0:\n",
    "        return 0\n",
    "    elif n == 1:\n",
    "        return 1\n",
    "    # Recursive step: F(n) = F(n-1) + F(n-2)\n",
    "    else:\n",
    "        return fibonacci(n - 1) + fibonacci(n - 2)\n",
    "\n",
    "print(\"Fibonacci sequence up to 8 terms:\")\n",
    "for i in range(8):\n",
    "    print(fibonacci(i), end=\" \")\n",
    "print() # New line"
   ]
  }
 ],
 "metadata": {
  "kernelspec": {
   "display_name": "Python 3",
   "language": "python",
   "name": "python3"
  },
  "language_info": {
   "codemirror_mode": {
    "name": "ipython",
    "version": 3
   },
   "file_extension": ".py",
   "mimetype": "text/x-python",
   "name": "python",
   "nbconvert_exporter": "python",
   "pygments_lexer": "ipython3",
   "version": "3.12.1"
  }
 },
 "nbformat": 4,
 "nbformat_minor": 5
}
