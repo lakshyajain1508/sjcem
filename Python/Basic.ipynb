{
 "cells": [
  {
   "cell_type": "code",
   "execution_count": 8,
   "id": "44afbfc6",
   "metadata": {},
   "outputs": [
    {
     "name": "stdout",
     "output_type": "stream",
     "text": [
      "<class 'int'>\n",
      "<class 'str'>\n",
      "<class 'complex'>\n",
      "<class 'list'>\n",
      "<class 'tuple'>\n",
      "<class 'dict'>\n",
      "<class 'set'>\n",
      "<class 'frozenset'>\n",
      "<class 'bool'>\n",
      "<class 'bytes'>\n",
      "<class 'bytearray'>\n",
      "<class 'memoryview'>\n",
      "<class 'NoneType'>\n",
      "<class 'range'>\n"
     ]
    }
   ],
   "source": [
    "# Print datatype \n",
    "x = 5\n",
    "print(type(x))\n",
    "x = \"hello\"\n",
    "print(type(x))\n",
    "x = 3+5j\n",
    "print(type(x))\n",
    "x = [\"apple\", \"banana\", \"cherry\"]\n",
    "print(type(x))\n",
    "x = (\"apple\", \"banana\", \"cherry\")\n",
    "print(type(x))\n",
    "x = {\"Name \": \"John\", \"Age\": 30}\n",
    "print(type(x))\n",
    "x = {\"apple\", \"banana\", \"cherry\"}\n",
    "print(type(x))\n",
    "x = frozenset({\"apple\", \"banana\", \"cherry\"})\n",
    "print(type(x))\n",
    "x = True\n",
    "print(type(x))\n",
    "x = b\"Hello\"\n",
    "print(type(x))\n",
    "x = bytearray(5)\n",
    "print(type(x))\n",
    "x = memoryview(bytes(5))\n",
    "print(type(x))\n",
    "x = None\n",
    "print(type(x))\n",
    "x = range(5)\n",
    "print(type(x))"
   ]
  },
  {
   "cell_type": "code",
   "execution_count": 11,
   "id": "643ee724",
   "metadata": {},
   "outputs": [
    {
     "name": "stdout",
     "output_type": "stream",
     "text": [
      "1.0\n",
      "5\n",
      "(1+0j)\n",
      "<class 'float'>\n",
      "<class 'int'>\n",
      "<class 'complex'>\n"
     ]
    }
   ],
   "source": [
    "# Type conversion\n",
    "\n",
    "x = 1\n",
    "y = 5.8\n",
    "z = 8+3j\n",
    "\n",
    "a = float(x)\n",
    "b = int(y)\n",
    "c = complex(x)\n",
    "\n",
    "print(a)\n",
    "print(b)\n",
    "print(c)\n",
    "\n",
    "print(type(a))\n",
    "print(type(b))\n",
    "print(type(c))"
   ]
  },
  {
   "cell_type": "code",
   "execution_count": 16,
   "id": "fca90e97",
   "metadata": {},
   "outputs": [
    {
     "name": "stdout",
     "output_type": "stream",
     "text": [
      "5\n"
     ]
    }
   ],
   "source": [
    "import random\n",
    "\n",
    "print(random.randint(1, 10))"
   ]
  },
  {
   "cell_type": "code",
   "execution_count": 20,
   "id": "db170872",
   "metadata": {},
   "outputs": [
    {
     "name": "stdout",
     "output_type": "stream",
     "text": [
      "Hello\n",
      "Hello\n"
     ]
    }
   ],
   "source": [
    "# String\n",
    "\n",
    "x = \"Hello\"\n",
    "print(x)\n",
    "y = 'Hello'\n",
    "print(y)"
   ]
  },
  {
   "cell_type": "code",
   "execution_count": 22,
   "id": "ceb5c5a3",
   "metadata": {},
   "outputs": [
    {
     "name": "stdout",
     "output_type": "stream",
     "text": [
      "This is a multiline string.\n",
      "It can span multiple lines.\n",
      "This is another multiline string.\n",
      "It can also span multiple lines.\n"
     ]
    }
   ],
   "source": [
    "# Multiline String\n",
    "z = \"\"\"This is a multiline string.\n",
    "It can span multiple lines.\"\"\"\n",
    "print(z)\n",
    "w = '''This is another multiline string.\n",
    "It can also span multiple lines.'''\n",
    "print(w)"
   ]
  },
  {
   "cell_type": "code",
   "execution_count": null,
   "id": "9c5b7b9c",
   "metadata": {},
   "outputs": [],
   "source": []
  }
 ],
 "metadata": {
  "kernelspec": {
   "display_name": "Python 3",
   "language": "python",
   "name": "python3"
  },
  "language_info": {
   "codemirror_mode": {
    "name": "ipython",
    "version": 3
   },
   "file_extension": ".py",
   "mimetype": "text/x-python",
   "name": "python",
   "nbconvert_exporter": "python",
   "pygments_lexer": "ipython3",
   "version": "3.12.1"
  }
 },
 "nbformat": 4,
 "nbformat_minor": 5
}
